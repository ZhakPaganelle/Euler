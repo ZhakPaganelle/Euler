{
 "cells": [
  {
   "cell_type": "code",
   "execution_count": 1,
   "id": "73110c47-9b39-4bd9-bbc5-b38003a09433",
   "metadata": {},
   "outputs": [],
   "source": [
    "import os\n",
    "import bs4\n",
    "import requests"
   ]
  },
  {
   "cell_type": "code",
   "execution_count": 2,
   "id": "eaefb23f-811b-4997-a9c5-0f2c93dba2eb",
   "metadata": {},
   "outputs": [],
   "source": [
    "url_ru = r'https://euler.jakumo.org/problems/view/{}.html'\n",
    "url_eng = r'https://projecteuler.net/problem={}'"
   ]
  },
  {
   "cell_type": "code",
   "execution_count": 3,
   "id": "a3e9c270-a918-44e5-924b-673e5007d746",
   "metadata": {},
   "outputs": [],
   "source": [
    "folder_list = os.listdir()"
   ]
  },
  {
   "cell_type": "code",
   "execution_count": 4,
   "id": "3f927ede-4510-4b0e-841e-381276db9c44",
   "metadata": {},
   "outputs": [],
   "source": [
    "number_of_tasks = 756"
   ]
  },
  {
   "cell_type": "code",
   "execution_count": 5,
   "id": "d80e0265-b6ec-448f-a97f-c09936f986e8",
   "metadata": {},
   "outputs": [],
   "source": [
    "def get_folder_name(task_number):\n",
    "    return f'Task_{str(task_number).rjust(3, \"0\")}'"
   ]
  },
  {
   "cell_type": "code",
   "execution_count": 6,
   "id": "642eec13-4570-43dd-b217-158eb97260fa",
   "metadata": {},
   "outputs": [],
   "source": [
    "def get_text(task_number):\n",
    "    ru = []\n",
    "    req_ru = requests.get(url_ru.format(task_number))\n",
    "    soup_ru = bs4.BeautifulSoup(req_ru.text)\n",
    "    \n",
    "    ru.append('##' + soup_ru.find_all('div', class_='probTitle')[0].text)\n",
    "    text_ru = ''\n",
    "    if task_number in [52, 372]:\n",
    "        text_ru = soup_ru.find_all('div', class_='problemsItem')[0].find_all('p')[0].text\n",
    "    else:\n",
    "        for p in soup_ru.find_all('div', class_='problem_content'):\n",
    "            text_ru += p.text\n",
    "    ru.append(text_ru)\n",
    "    \n",
    "    eng = []\n",
    "    \n",
    "    req_eng = requests.get(url_eng.format(task_number))\n",
    "    soup_eng = bs4.BeautifulSoup(req_eng.text)\n",
    "    \n",
    "    eng.append('##' + soup_eng.find_all('h2')[0].text)\n",
    "    text_eng = ''\n",
    "    for p in soup_eng.find_all('div', class_='problem_content')[0].find_all('p'):\n",
    "        text_eng += '\\n' + p.text\n",
    "    if content := soup_eng.find_all('div', class_='problem_content')[0].find_all('a'):\n",
    "        folder = get_folder_name(task_number)\n",
    "        for a in content:\n",
    "            with open(f'./{folder}/{a.text}', 'w', encoding='utf-8') as content_file:\n",
    "                content_file.write(requests.get('https://projecteuler.net/' + a['href']).text)\n",
    "                \n",
    "    eng.append(text_eng)\n",
    "    \n",
    "    return eng, ru"
   ]
  },
  {
   "cell_type": "code",
   "execution_count": 7,
   "id": "19b69b77-2897-4f16-9038-22d2ff5d65c8",
   "metadata": {},
   "outputs": [],
   "source": [
    "def create_readme(task_number):\n",
    "    text = get_text(task_number)\n",
    "    \n",
    "    folder = get_folder_name(task_number)\n",
    "    with open(folder+'/README.md', 'w', encoding='utf-8') as readme:\n",
    "        readme.write('\\n'.join(['\\n'.join(pair) for pair in text]))\n",
    "    "
   ]
  },
  {
   "cell_type": "code",
   "execution_count": 8,
   "id": "bbd1879c-b756-4c6b-bf9e-e190010ab3dc",
   "metadata": {},
   "outputs": [],
   "source": [
    "def create_folder(task_number):\n",
    "    folder = get_folder_name(task_number)\n",
    "    os.mkdir(folder)\n",
    "    create_readme(task_number)"
   ]
  },
  {
   "cell_type": "code",
   "execution_count": 9,
   "id": "75c72721-901a-427f-adab-fa1d4cd73749",
   "metadata": {},
   "outputs": [],
   "source": [
    "for task in range(number_of_tasks):\n",
    "    create_folder(task + 1)"
   ]
  }
 ],
 "metadata": {
  "kernelspec": {
   "display_name": "Python 3 (ipykernel)",
   "language": "python",
   "name": "python3"
  },
  "language_info": {
   "codemirror_mode": {
    "name": "ipython",
    "version": 3
   },
   "file_extension": ".py",
   "mimetype": "text/x-python",
   "name": "python",
   "nbconvert_exporter": "python",
   "pygments_lexer": "ipython3",
   "version": "3.9.7"
  }
 },
 "nbformat": 4,
 "nbformat_minor": 5
}
